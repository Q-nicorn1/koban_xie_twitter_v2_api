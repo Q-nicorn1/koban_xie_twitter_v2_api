{
 "cells": [
  {
   "cell_type": "code",
   "execution_count": 5,
   "metadata": {},
   "outputs": [],
   "source": [
    "import api_wrapper as api\n",
    "import os\n",
    "import pandas as pd\n",
    "import time"
   ]
  },
  {
   "cell_type": "markdown",
   "metadata": {},
   "source": [
    "### 1. Set the `BEARER_TOKEN` variable to your developer bearer token."
   ]
  },
  {
   "cell_type": "code",
   "execution_count": 6,
   "metadata": {},
   "outputs": [
    {
     "name": "stdout",
     "output_type": "stream",
     "text": [
      "Requirement already satisfied: requests in /opt/anaconda3/lib/python3.8/site-packages (2.24.0)\n",
      "Requirement already satisfied: certifi>=2017.4.17 in /opt/anaconda3/lib/python3.8/site-packages (from requests) (2020.6.20)\n",
      "Requirement already satisfied: chardet<4,>=3.0.2 in /opt/anaconda3/lib/python3.8/site-packages (from requests) (3.0.4)\n",
      "Requirement already satisfied: urllib3!=1.25.0,!=1.25.1,<1.26,>=1.21.1 in /opt/anaconda3/lib/python3.8/site-packages (from requests) (1.25.11)\n",
      "Requirement already satisfied: idna<3,>=2.5 in /opt/anaconda3/lib/python3.8/site-packages (from requests) (2.10)\n"
     ]
    }
   ],
   "source": [
    "pip install requests "
   ]
  },
  {
   "cell_type": "code",
   "execution_count": 7,
   "metadata": {},
   "outputs": [],
   "source": [
    "token = '****'\n",
    "os.environ[\"BEARER_TOKEN\"] = token"
   ]
  },
  {
   "cell_type": "markdown",
   "metadata": {},
   "source": [
    "### 2. Get 20 samples of screen name "
   ]
  },
  {
   "cell_type": "code",
   "execution_count": 8,
   "metadata": {},
   "outputs": [
    {
     "data": {
      "text/plain": [
       "['LotusOak2',\n",
       " 'ISRAEL_PREDATOR',\n",
       " 'thereal_truther',\n",
       " 'crwriter1',\n",
       " 'SNCCLA',\n",
       " 'mcfunny',\n",
       " 'paul_kangas',\n",
       " '45HammerTime',\n",
       " 'doritmi',\n",
       " 'HomeAttention',\n",
       " 'Charbrevolution',\n",
       " '9_11_IsAnInside',\n",
       " 'BeckyJohnson222',\n",
       " 'kidoctr',\n",
       " 'Iconoclastttt',\n",
       " 'Rosewind2007',\n",
       " 'PlumRemson',\n",
       " 'CoercedTaxSlave',\n",
       " 'kuriousmind93',\n",
       " 'PositivelyJoan']"
      ]
     },
     "execution_count": 8,
     "metadata": {},
     "output_type": "execute_result"
    }
   ],
   "source": [
    "seed_accounts =  pd.read_csv('data/seed_accounts.csv')\n",
    "seed_accounts = seed_accounts['screen_name'].tolist()\n",
    "seed_accounts = seed_accounts[0:20]\n",
    "seed_accounts"
   ]
  },
  {
   "cell_type": "code",
   "execution_count": 12,
   "metadata": {},
   "outputs": [
    {
     "name": "stdout",
     "output_type": "stream",
     "text": [
      "Requirement already satisfied: botometer in /opt/anaconda3/lib/python3.8/site-packages (1.6)\n",
      "Requirement already satisfied: requests in /opt/anaconda3/lib/python3.8/site-packages (from botometer) (2.24.0)\n",
      "Requirement already satisfied: tweepy>=3.5.0 in /opt/anaconda3/lib/python3.8/site-packages (from botometer) (3.10.0)\n",
      "Requirement already satisfied: idna<3,>=2.5 in /opt/anaconda3/lib/python3.8/site-packages (from requests->botometer) (2.10)\n",
      "Requirement already satisfied: certifi>=2017.4.17 in /opt/anaconda3/lib/python3.8/site-packages (from requests->botometer) (2020.6.20)\n",
      "Requirement already satisfied: chardet<4,>=3.0.2 in /opt/anaconda3/lib/python3.8/site-packages (from requests->botometer) (3.0.4)\n",
      "Requirement already satisfied: urllib3!=1.25.0,!=1.25.1,<1.26,>=1.21.1 in /opt/anaconda3/lib/python3.8/site-packages (from requests->botometer) (1.25.11)\n",
      "Requirement already satisfied: requests-oauthlib>=0.7.0 in /opt/anaconda3/lib/python3.8/site-packages (from tweepy>=3.5.0->botometer) (1.3.0)\n",
      "Requirement already satisfied: six>=1.10.0 in /opt/anaconda3/lib/python3.8/site-packages (from tweepy>=3.5.0->botometer) (1.15.0)\n",
      "Requirement already satisfied: oauthlib>=3.0.0 in /opt/anaconda3/lib/python3.8/site-packages (from requests-oauthlib>=0.7.0->tweepy>=3.5.0->botometer) (3.1.0)\n"
     ]
    }
   ],
   "source": [
    " pip install botometer\n",
    "\n",
    "import botometer\n",
    "\n",
    "\n",
    "rapidapi_key = \"****\"\n",
    "twitter_app_auth = {\n",
    "    'consumer_key': '****',\n",
    "    'consumer_secret': '****',\n",
    "    'access_token': '****',\n",
    "    'access_token_secret': '****',\n",
    "    }\n",
    "bom = botometer.Botometer(wait_on_ratelimit=True,\n",
    "                          rapidapi_key=rapidapi_key,\n",
    "                          **twitter_app_auth)\n"
   ]
  },
  {
   "cell_type": "code",
   "execution_count": 15,
   "metadata": {},
   "outputs": [
    {
     "data": {
      "text/plain": [
       "{'cap': {'english': 0.7384783166429812, 'universal': 0.7219510972984345},\n",
       " 'display_scores': {'english': {'astroturf': 1.4,\n",
       "   'fake_follower': 0.6,\n",
       "   'financial': 0.0,\n",
       "   'other': 2.6,\n",
       "   'overall': 1.2,\n",
       "   'self_declared': 0.2,\n",
       "   'spammer': 0.2},\n",
       "  'universal': {'astroturf': 1.1,\n",
       "   'fake_follower': 0.8,\n",
       "   'financial': 0.0,\n",
       "   'other': 2.4,\n",
       "   'overall': 1.0,\n",
       "   'self_declared': 0.3,\n",
       "   'spammer': 0.2}},\n",
       " 'raw_scores': {'english': {'astroturf': 0.27,\n",
       "   'fake_follower': 0.12,\n",
       "   'financial': 0.0,\n",
       "   'other': 0.52,\n",
       "   'overall': 0.24,\n",
       "   'self_declared': 0.05,\n",
       "   'spammer': 0.04},\n",
       "  'universal': {'astroturf': 0.22,\n",
       "   'fake_follower': 0.16,\n",
       "   'financial': 0.0,\n",
       "   'other': 0.49,\n",
       "   'overall': 0.21,\n",
       "   'self_declared': 0.06,\n",
       "   'spammer': 0.04}},\n",
       " 'user': {'majority_lang': 'en',\n",
       "  'user_data': {'id_str': '26307708', 'screen_name': 'mcfunny'}}}"
      ]
     },
     "execution_count": 15,
     "metadata": {},
     "output_type": "execute_result"
    }
   ],
   "source": [
    "#check a single accout to see if it works\n",
    "result = bom.check_account('@mcfunny')\n",
    "result"
   ]
  },
  {
   "cell_type": "code",
   "execution_count": 20,
   "metadata": {},
   "outputs": [
    {
     "name": "stdout",
     "output_type": "stream",
     "text": [
      "@LotusOak2 {'error': 'TweepError: Not authorized.'}\n",
      "@ISRAEL_PREDATOR {'error': 'TweepError: Not authorized.'}\n",
      "@thereal_truther {'cap': {'english': 0.5539725719744064, 'universal': 0.40673978557586005}, 'display_scores': {'english': {'astroturf': 2.9, 'fake_follower': 0.4, 'financial': 0.0, 'other': 2.8, 'overall': 0.6, 'self_declared': 0.1, 'spammer': 0.0}, 'universal': {'astroturf': 2.4, 'fake_follower': 0.4, 'financial': 0.0, 'other': 1.5, 'overall': 0.4, 'self_declared': 0.0, 'spammer': 0.0}}, 'raw_scores': {'english': {'astroturf': 0.58, 'fake_follower': 0.09, 'financial': 0.0, 'other': 0.55, 'overall': 0.13, 'self_declared': 0.02, 'spammer': 0.0}, 'universal': {'astroturf': 0.48, 'fake_follower': 0.08, 'financial': 0.0, 'other': 0.3, 'overall': 0.07, 'self_declared': 0.01, 'spammer': 0.0}}, 'user': {'majority_lang': 'en', 'user_data': {'id_str': '4322065997', 'screen_name': 'thereal_truther'}}}\n",
      "@crwriter1 {'cap': {'english': 0.7939576449836836, 'universal': 0.8064216072785402}, 'display_scores': {'english': {'astroturf': 2.8, 'fake_follower': 2.7, 'financial': 0.1, 'other': 2.9, 'overall': 2.0, 'self_declared': 0.7, 'spammer': 0.4}, 'universal': {'astroturf': 3.0, 'fake_follower': 2.4, 'financial': 0.1, 'other': 3.5, 'overall': 3.5, 'self_declared': 0.7, 'spammer': 0.3}}, 'raw_scores': {'english': {'astroturf': 0.55, 'fake_follower': 0.54, 'financial': 0.02, 'other': 0.59, 'overall': 0.39, 'self_declared': 0.14, 'spammer': 0.07}, 'universal': {'astroturf': 0.6, 'fake_follower': 0.49, 'financial': 0.02, 'other': 0.7, 'overall': 0.7, 'self_declared': 0.14, 'spammer': 0.06}}, 'user': {'majority_lang': 'en', 'user_data': {'id_str': '404290687', 'screen_name': 'crwriter1'}}}\n",
      "@SNCCLA {'error': 'TweepError: Not authorized.'}\n",
      "@mcfunny {'cap': {'english': 0.7470839770895665, 'universal': 0.7334998320027682}, 'display_scores': {'english': {'astroturf': 1.2, 'fake_follower': 0.8, 'financial': 0.0, 'other': 2.6, 'overall': 1.2, 'self_declared': 0.2, 'spammer': 0.2}, 'universal': {'astroturf': 1.0, 'fake_follower': 0.8, 'financial': 0.0, 'other': 2.5, 'overall': 1.1, 'self_declared': 0.2, 'spammer': 0.2}}, 'raw_scores': {'english': {'astroturf': 0.23, 'fake_follower': 0.15, 'financial': 0.01, 'other': 0.51, 'overall': 0.25, 'self_declared': 0.05, 'spammer': 0.04}, 'universal': {'astroturf': 0.21, 'fake_follower': 0.17, 'financial': 0.0, 'other': 0.5, 'overall': 0.22, 'self_declared': 0.05, 'spammer': 0.04}}, 'user': {'majority_lang': 'en', 'user_data': {'id_str': '26307708', 'screen_name': 'mcfunny'}}}\n",
      "@paul_kangas {'cap': {'english': 0.779581525363529, 'universal': 0.5982419966968565}, 'display_scores': {'english': {'astroturf': 0.6, 'fake_follower': 0.6, 'financial': 0.2, 'other': 2.0, 'overall': 1.6, 'self_declared': 0.1, 'spammer': 0.0}, 'universal': {'astroturf': 0.7, 'fake_follower': 0.2, 'financial': 0.0, 'other': 1.1, 'overall': 0.7, 'self_declared': 0.0, 'spammer': 0.0}}, 'raw_scores': {'english': {'astroturf': 0.12, 'fake_follower': 0.11, 'financial': 0.03, 'other': 0.39, 'overall': 0.31, 'self_declared': 0.02, 'spammer': 0.01}, 'universal': {'astroturf': 0.14, 'fake_follower': 0.05, 'financial': 0.0, 'other': 0.22, 'overall': 0.14, 'self_declared': 0.0, 'spammer': 0.0}}, 'user': {'majority_lang': 'en', 'user_data': {'id_str': '448609949', 'screen_name': 'paul_kangas'}}}\n",
      "@45HammerTime {'error': 'TweepError: Not authorized.'}\n",
      "@doritmi {'cap': {'english': 0.7998362042473794, 'universal': 0.760577756485164}, 'display_scores': {'english': {'astroturf': 3.6, 'fake_follower': 0.8, 'financial': 0.0, 'other': 2.2, 'overall': 3.6, 'self_declared': 0.0, 'spammer': 0.0}, 'universal': {'astroturf': 3.3, 'fake_follower': 1.1, 'financial': 0.0, 'other': 1.6, 'overall': 1.2, 'self_declared': 0.0, 'spammer': 0.1}}, 'raw_scores': {'english': {'astroturf': 0.73, 'fake_follower': 0.15, 'financial': 0.0, 'other': 0.43, 'overall': 0.73, 'self_declared': 0.01, 'spammer': 0.0}, 'universal': {'astroturf': 0.66, 'fake_follower': 0.22, 'financial': 0.01, 'other': 0.32, 'overall': 0.25, 'self_declared': 0.0, 'spammer': 0.02}}, 'user': {'majority_lang': 'en', 'user_data': {'id_str': '54886540', 'screen_name': 'doritmi'}}}\n",
      "@HomeAttention {'error': 'TweepError: Not authorized.'}\n",
      "@Charbrevolution {'cap': {'english': 0.7611878625273879, 'universal': 0.7982287282125168}, 'display_scores': {'english': {'astroturf': 3.2, 'fake_follower': 1.9, 'financial': 0.0, 'other': 1.1, 'overall': 1.4, 'self_declared': 0.0, 'spammer': 0.0}, 'universal': {'astroturf': 2.7, 'fake_follower': 1.5, 'financial': 0.0, 'other': 1.2, 'overall': 1.8, 'self_declared': 0.0, 'spammer': 0.0}}, 'raw_scores': {'english': {'astroturf': 0.65, 'fake_follower': 0.38, 'financial': 0.0, 'other': 0.22, 'overall': 0.27, 'self_declared': 0.0, 'spammer': 0.01}, 'universal': {'astroturf': 0.54, 'fake_follower': 0.3, 'financial': 0.0, 'other': 0.24, 'overall': 0.35, 'self_declared': 0.01, 'spammer': 0.01}}, 'user': {'majority_lang': 'en', 'user_data': {'id_str': '3655550867', 'screen_name': 'Charbrevolution'}}}\n",
      "@9_11_IsAnInside {'error': 'TweepError: Not authorized.'}\n",
      "@BeckyJohnson222 {'error': 'TweepError: Not authorized.'}\n",
      "@kidoctr {'cap': {'english': 0.6414184221423734, 'universal': 0.6784864269642225}, 'display_scores': {'english': {'astroturf': 2.2, 'fake_follower': 0.7, 'financial': 0.2, 'other': 2.2, 'overall': 0.8, 'self_declared': 0.1, 'spammer': 0.0}, 'universal': {'astroturf': 2.6, 'fake_follower': 1.1, 'financial': 0.0, 'other': 1.8, 'overall': 0.9, 'self_declared': 0.0, 'spammer': 0.1}}, 'raw_scores': {'english': {'astroturf': 0.45, 'fake_follower': 0.14, 'financial': 0.03, 'other': 0.43, 'overall': 0.17, 'self_declared': 0.02, 'spammer': 0.01}, 'universal': {'astroturf': 0.51, 'fake_follower': 0.22, 'financial': 0.01, 'other': 0.35, 'overall': 0.18, 'self_declared': 0.01, 'spammer': 0.02}}, 'user': {'majority_lang': 'en', 'user_data': {'id_str': '30974896', 'screen_name': 'kidoctr'}}}\n",
      "@Iconoclastttt {'cap': {'english': 0.816204310368583, 'universal': 0.8372129323854712}, 'display_scores': {'english': {'astroturf': 4.1, 'fake_follower': 2.0, 'financial': 0.3, 'other': 2.8, 'overall': 4.1, 'self_declared': 0.2, 'spammer': 0.0}, 'universal': {'astroturf': 4.2, 'fake_follower': 2.6, 'financial': 0.2, 'other': 3.7, 'overall': 4.2, 'self_declared': 0.0, 'spammer': 0.5}}, 'raw_scores': {'english': {'astroturf': 0.81, 'fake_follower': 0.41, 'financial': 0.06, 'other': 0.57, 'overall': 0.81, 'self_declared': 0.03, 'spammer': 0.01}, 'universal': {'astroturf': 0.85, 'fake_follower': 0.52, 'financial': 0.03, 'other': 0.74, 'overall': 0.85, 'self_declared': 0.0, 'spammer': 0.1}}, 'user': {'majority_lang': 'en', 'user_data': {'id_str': '882374629922361344', 'screen_name': 'Iconoclastttt'}}}\n",
      "@Rosewind2007 {'cap': {'english': 0.2787259978325127, 'universal': 0.3469210182245441}, 'display_scores': {'english': {'astroturf': 3.1, 'fake_follower': 0.4, 'financial': 0.0, 'other': 1.0, 'overall': 0.2, 'self_declared': 0.0, 'spammer': 0.0}, 'universal': {'astroturf': 2.6, 'fake_follower': 0.4, 'financial': 0.0, 'other': 0.8, 'overall': 0.2, 'self_declared': 0.0, 'spammer': 0.0}}, 'raw_scores': {'english': {'astroturf': 0.62, 'fake_follower': 0.09, 'financial': 0.0, 'other': 0.21, 'overall': 0.03, 'self_declared': 0.0, 'spammer': 0.01}, 'universal': {'astroturf': 0.52, 'fake_follower': 0.08, 'financial': 0.0, 'other': 0.15, 'overall': 0.05, 'self_declared': 0.0, 'spammer': 0.01}}, 'user': {'majority_lang': 'en', 'user_data': {'id_str': '827119753537937408', 'screen_name': 'Rosewind2007'}}}\n",
      "@PlumRemson {'cap': {'english': 0.36264564124632276, 'universal': 0.28846389695411967}, 'display_scores': {'english': {'astroturf': 2.1, 'fake_follower': 0.4, 'financial': 0.0, 'other': 1.1, 'overall': 0.3, 'self_declared': 0.0, 'spammer': 0.0}, 'universal': {'astroturf': 2.4, 'fake_follower': 0.1, 'financial': 0.0, 'other': 0.8, 'overall': 0.2, 'self_declared': 0.0, 'spammer': 0.0}}, 'raw_scores': {'english': {'astroturf': 0.42, 'fake_follower': 0.09, 'financial': 0.01, 'other': 0.22, 'overall': 0.06, 'self_declared': 0.0, 'spammer': 0.0}, 'universal': {'astroturf': 0.48, 'fake_follower': 0.02, 'financial': 0.0, 'other': 0.16, 'overall': 0.03, 'self_declared': 0.0, 'spammer': 0.01}}, 'user': {'majority_lang': 'en', 'user_data': {'id_str': '3846148359', 'screen_name': 'PlumRemson'}}}\n",
      "@CoercedTaxSlave {'error': \"TweepError: [{'code': 34, 'message': 'Sorry, that page does not exist.'}]\"}\n",
      "@kuriousmind93 {'cap': {'english': 0.5539725719744064, 'universal': 0.5982419966968565}, 'display_scores': {'english': {'astroturf': 0.8, 'fake_follower': 0.4, 'financial': 0.0, 'other': 2.1, 'overall': 0.6, 'self_declared': 0.2, 'spammer': 0.0}, 'universal': {'astroturf': 1.0, 'fake_follower': 0.5, 'financial': 0.0, 'other': 1.4, 'overall': 0.7, 'self_declared': 0.3, 'spammer': 0.0}}, 'raw_scores': {'english': {'astroturf': 0.17, 'fake_follower': 0.08, 'financial': 0.01, 'other': 0.42, 'overall': 0.13, 'self_declared': 0.05, 'spammer': 0.01}, 'universal': {'astroturf': 0.19, 'fake_follower': 0.1, 'financial': 0.01, 'other': 0.28, 'overall': 0.14, 'self_declared': 0.06, 'spammer': 0.01}}, 'user': {'majority_lang': 'en', 'user_data': {'id_str': '958432492847095808', 'screen_name': 'kuriousmind93'}}}\n",
      "@PositivelyJoan {'error': 'TweepError: Not authorized.'}\n"
     ]
    }
   ],
   "source": [
    "#Query the multiple sample accounts Botometer scores\n",
    "\n",
    "accounts = ['@LotusOak2','@ISRAEL_PREDATOR','@thereal_truther','@crwriter1','@SNCCLA','@mcfunny','@paul_kangas','@45HammerTime','@doritmi','@HomeAttention','@Charbrevolution','@9_11_IsAnInside','@BeckyJohnson222','@kidoctr','@Iconoclastttt', '@Rosewind2007','@PlumRemson','@CoercedTaxSlave','@kuriousmind93','@PositivelyJoan']\n",
    "\n",
    "for screen_name, result in bom.check_accounts_in(accounts):\n",
    "    print(screen_name,result)\n",
    "      "
   ]
  }
 ],
 "metadata": {
  "kernelspec": {
   "display_name": "Python 3",
   "language": "python",
   "name": "python3"
  },
  "language_info": {
   "codemirror_mode": {
    "name": "ipython",
    "version": 3
   },
   "file_extension": ".py",
   "mimetype": "text/x-python",
   "name": "python",
   "nbconvert_exporter": "python",
   "pygments_lexer": "ipython3",
   "version": "3.8.5"
  }
 },
 "nbformat": 4,
 "nbformat_minor": 4
}
